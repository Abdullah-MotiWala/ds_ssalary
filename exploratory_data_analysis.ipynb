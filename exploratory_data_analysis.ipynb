{
 "cells": [
  {
   "cell_type": "code",
   "execution_count": 6,
   "id": "807e588d",
   "metadata": {},
   "outputs": [],
   "source": [
    "import pandas as pd\n",
    "import matplotlib.pyplot as mlp\n",
    "import seaborn as sns"
   ]
  },
  {
   "cell_type": "code",
   "execution_count": 3,
   "id": "6c4bd4af",
   "metadata": {},
   "outputs": [
    {
     "data": {
      "text/html": [
       "<div>\n",
       "<style scoped>\n",
       "    .dataframe tbody tr th:only-of-type {\n",
       "        vertical-align: middle;\n",
       "    }\n",
       "\n",
       "    .dataframe tbody tr th {\n",
       "        vertical-align: top;\n",
       "    }\n",
       "\n",
       "    .dataframe thead th {\n",
       "        text-align: right;\n",
       "    }\n",
       "</style>\n",
       "<table border=\"1\" class=\"dataframe\">\n",
       "  <thead>\n",
       "    <tr style=\"text-align: right;\">\n",
       "      <th></th>\n",
       "      <th>Job Title</th>\n",
       "      <th>Salary Estimate</th>\n",
       "      <th>Rating</th>\n",
       "      <th>Company Name</th>\n",
       "      <th>Location</th>\n",
       "      <th>Founded</th>\n",
       "      <th>Type of ownership</th>\n",
       "      <th>Industry</th>\n",
       "      <th>Sector</th>\n",
       "      <th>min_size</th>\n",
       "      <th>max_size</th>\n",
       "      <th>min_revenue</th>\n",
       "      <th>max_revenue</th>\n",
       "      <th>revenue_currency</th>\n",
       "    </tr>\n",
       "  </thead>\n",
       "  <tbody>\n",
       "    <tr>\n",
       "      <th>0</th>\n",
       "      <td>Data Scientist</td>\n",
       "      <td>120412.0</td>\n",
       "      <td>4.1</td>\n",
       "      <td>Bosch Group\\r\\n4.1</td>\n",
       "      <td>Sunnyvale</td>\n",
       "      <td>1886</td>\n",
       "      <td>Company - Private</td>\n",
       "      <td>Consumer Product Manufacturing</td>\n",
       "      <td>Manufacturing</td>\n",
       "      <td>100001</td>\n",
       "      <td>100001</td>\n",
       "      <td>100.01</td>\n",
       "      <td>100.01</td>\n",
       "      <td>billion</td>\n",
       "    </tr>\n",
       "    <tr>\n",
       "      <th>1</th>\n",
       "      <td>Data Scientist</td>\n",
       "      <td>117599.0</td>\n",
       "      <td>4.3</td>\n",
       "      <td>Cisco Systems\\r\\n4.3</td>\n",
       "      <td>San Jose</td>\n",
       "      <td>1984</td>\n",
       "      <td>Company - Public</td>\n",
       "      <td>Enterprise Software &amp; Network Solutions</td>\n",
       "      <td>Information Technology</td>\n",
       "      <td>100001</td>\n",
       "      <td>100001</td>\n",
       "      <td>100.01</td>\n",
       "      <td>100.01</td>\n",
       "      <td>billion</td>\n",
       "    </tr>\n",
       "    <tr>\n",
       "      <th>2</th>\n",
       "      <td>Data Scientist</td>\n",
       "      <td>122065.0</td>\n",
       "      <td>5.0</td>\n",
       "      <td>BICP\\r\\n5.0</td>\n",
       "      <td>San Francisco</td>\n",
       "      <td>2009</td>\n",
       "      <td>Company - Private</td>\n",
       "      <td>Information Technology Support Services</td>\n",
       "      <td>Information Technology</td>\n",
       "      <td>1</td>\n",
       "      <td>50</td>\n",
       "      <td>5.00</td>\n",
       "      <td>25.00</td>\n",
       "      <td>million</td>\n",
       "    </tr>\n",
       "    <tr>\n",
       "      <th>3</th>\n",
       "      <td>Senior Data Scientist, Analytics</td>\n",
       "      <td>175000.0</td>\n",
       "      <td>4.2</td>\n",
       "      <td>Discord\\r\\n4.2</td>\n",
       "      <td>San Francisco</td>\n",
       "      <td>2015</td>\n",
       "      <td>Company - Private</td>\n",
       "      <td>Internet &amp; Web Services</td>\n",
       "      <td>Information Technology</td>\n",
       "      <td>51</td>\n",
       "      <td>200</td>\n",
       "      <td>1.00</td>\n",
       "      <td>5.00</td>\n",
       "      <td>million</td>\n",
       "    </tr>\n",
       "    <tr>\n",
       "      <th>4</th>\n",
       "      <td>Data Scientist</td>\n",
       "      <td>127302.0</td>\n",
       "      <td>3.7</td>\n",
       "      <td>Upgrade\\r\\n3.7</td>\n",
       "      <td>San Francisco</td>\n",
       "      <td>2016</td>\n",
       "      <td>Company - Private</td>\n",
       "      <td>Banking &amp; Lending</td>\n",
       "      <td>Financial Services</td>\n",
       "      <td>201</td>\n",
       "      <td>500</td>\n",
       "      <td>1.00</td>\n",
       "      <td>1.00</td>\n",
       "      <td>million</td>\n",
       "    </tr>\n",
       "  </tbody>\n",
       "</table>\n",
       "</div>"
      ],
      "text/plain": [
       "                          Job Title  Salary Estimate  Rating  \\\n",
       "0                    Data Scientist         120412.0     4.1   \n",
       "1                    Data Scientist         117599.0     4.3   \n",
       "2                    Data Scientist         122065.0     5.0   \n",
       "3  Senior Data Scientist, Analytics         175000.0     4.2   \n",
       "4                    Data Scientist         127302.0     3.7   \n",
       "\n",
       "           Company Name       Location  Founded  Type of ownership  \\\n",
       "0    Bosch Group\\r\\n4.1      Sunnyvale     1886  Company - Private   \n",
       "1  Cisco Systems\\r\\n4.3       San Jose     1984   Company - Public   \n",
       "2           BICP\\r\\n5.0  San Francisco     2009  Company - Private   \n",
       "3        Discord\\r\\n4.2  San Francisco     2015  Company - Private   \n",
       "4        Upgrade\\r\\n3.7  San Francisco     2016  Company - Private   \n",
       "\n",
       "                                  Industry                  Sector  min_size  \\\n",
       "0           Consumer Product Manufacturing           Manufacturing    100001   \n",
       "1  Enterprise Software & Network Solutions  Information Technology    100001   \n",
       "2  Information Technology Support Services  Information Technology         1   \n",
       "3                  Internet & Web Services  Information Technology        51   \n",
       "4                        Banking & Lending      Financial Services       201   \n",
       "\n",
       "   max_size  min_revenue  max_revenue revenue_currency  \n",
       "0    100001       100.01       100.01          billion  \n",
       "1    100001       100.01       100.01          billion  \n",
       "2        50         5.00        25.00          million  \n",
       "3       200         1.00         5.00          million  \n",
       "4       500         1.00         1.00          million  "
      ]
     },
     "execution_count": 3,
     "metadata": {},
     "output_type": "execute_result"
    }
   ],
   "source": [
    "df = pd.read_csv(\"salary_data_cleaned.csv\")\n",
    "df.head()"
   ]
  },
  {
   "cell_type": "code",
   "execution_count": 5,
   "id": "1473c3ed",
   "metadata": {},
   "outputs": [
    {
     "data": {
      "text/plain": [
       "Index(['Job Title', 'Salary Estimate', 'Rating', 'Company Name', 'Location',\n",
       "       'Founded', 'Type of ownership', 'Industry', 'Sector', 'min_size',\n",
       "       'max_size', 'min_revenue', 'max_revenue', 'revenue_currency'],\n",
       "      dtype='object')"
      ]
     },
     "execution_count": 5,
     "metadata": {},
     "output_type": "execute_result"
    }
   ],
   "source": [
    "df.columns"
   ]
  },
  {
   "cell_type": "code",
   "execution_count": 7,
   "id": "21747430",
   "metadata": {},
   "outputs": [],
   "source": [
    "def title_simplifier(title):\n",
    "    if 'data scientist' in title.lower():\n",
    "        return 'data scientist'\n",
    "    elif 'data engineer' in title.lower():\n",
    "        return 'data engineer'\n",
    "    elif 'analyst' in title.lower():\n",
    "        return 'analyst'\n",
    "    elif 'machine learning' in title.lower():\n",
    "        return 'mle'\n",
    "    elif 'manager' in title.lower():\n",
    "        return 'manager'\n",
    "    elif 'director' in title.lower():\n",
    "        return 'director'\n",
    "    else:\n",
    "        return 'na'\n",
    "    \n",
    "def seniority(title):\n",
    "    if 'sr' in title.lower() or 'senior' in title.lower() or 'sr' in title.lower() or 'lead' in title.lower() or 'principal' in title.lower():\n",
    "            return 'senior'\n",
    "    elif 'jr' in title.lower() or 'jr.' in title.lower():\n",
    "        return 'jr'\n",
    "    else:\n",
    "        return 'na'\n",
    "\t\t\n",
    "## Job title and seniority \n",
    "\t\t\n",
    "##  Fix state Los Angeles \n",
    "\n",
    "##  Job description length \n",
    "\n",
    "##  Competitor count\n",
    "\n",
    "## hourly wage to annual \n",
    "\n",
    "#remove new line from job title"
   ]
  },
  {
   "cell_type": "code",
   "execution_count": 8,
   "id": "a07111cf",
   "metadata": {},
   "outputs": [],
   "source": [
    "df[\"job_simpl\"] = df[\"Job Title\"].apply(title_simplifier)"
   ]
  },
  {
   "cell_type": "code",
   "execution_count": 10,
   "id": "0e0a38a4",
   "metadata": {},
   "outputs": [
    {
     "data": {
      "text/plain": [
       "data scientist    52\n",
       "analyst            1\n",
       "Name: job_simpl, dtype: int64"
      ]
     },
     "execution_count": 10,
     "metadata": {},
     "output_type": "execute_result"
    }
   ],
   "source": [
    "df.job_simpl.value_counts()"
   ]
  },
  {
   "cell_type": "code",
   "execution_count": 12,
   "id": "ce195f1e",
   "metadata": {},
   "outputs": [],
   "source": [
    "df[\"seniority\"] = df[\"Job Title\"].apply(seniority)"
   ]
  },
  {
   "cell_type": "code",
   "execution_count": 13,
   "id": "9a9ab18a",
   "metadata": {},
   "outputs": [
    {
     "data": {
      "text/plain": [
       "na        45\n",
       "senior     8\n",
       "Name: seniority, dtype: int64"
      ]
     },
     "execution_count": 13,
     "metadata": {},
     "output_type": "execute_result"
    }
   ],
   "source": [
    "df.seniority.value_counts()"
   ]
  },
  {
   "cell_type": "code",
   "execution_count": 14,
   "id": "7409e29c",
   "metadata": {},
   "outputs": [
    {
     "data": {
      "text/plain": [
       "San Francisco    36\n",
       "San Jose          7\n",
       "Foster City       3\n",
       "Mountain View     3\n",
       "Sunnyvale         2\n",
       "Livermore         1\n",
       "Santa Clara       1\n",
       "Name: Location, dtype: int64"
      ]
     },
     "execution_count": 14,
     "metadata": {},
     "output_type": "execute_result"
    }
   ],
   "source": [
    "df.Location.value_counts()"
   ]
  },
  {
   "cell_type": "code",
   "execution_count": 15,
   "id": "0638e917",
   "metadata": {},
   "outputs": [],
   "source": [
    "df[\"company_txt\"] = df[\"Company Name\"].apply(lambda x : x.replace(\"/n\",\" \"))"
   ]
  },
  {
   "cell_type": "code",
   "execution_count": 16,
   "id": "96665233",
   "metadata": {},
   "outputs": [
    {
     "data": {
      "text/html": [
       "<div>\n",
       "<style scoped>\n",
       "    .dataframe tbody tr th:only-of-type {\n",
       "        vertical-align: middle;\n",
       "    }\n",
       "\n",
       "    .dataframe tbody tr th {\n",
       "        vertical-align: top;\n",
       "    }\n",
       "\n",
       "    .dataframe thead th {\n",
       "        text-align: right;\n",
       "    }\n",
       "</style>\n",
       "<table border=\"1\" class=\"dataframe\">\n",
       "  <thead>\n",
       "    <tr style=\"text-align: right;\">\n",
       "      <th></th>\n",
       "      <th>Salary Estimate</th>\n",
       "      <th>Rating</th>\n",
       "      <th>Founded</th>\n",
       "      <th>min_size</th>\n",
       "      <th>max_size</th>\n",
       "      <th>min_revenue</th>\n",
       "      <th>max_revenue</th>\n",
       "    </tr>\n",
       "  </thead>\n",
       "  <tbody>\n",
       "    <tr>\n",
       "      <th>count</th>\n",
       "      <td>53.000000</td>\n",
       "      <td>53.000000</td>\n",
       "      <td>53.00000</td>\n",
       "      <td>53.000000</td>\n",
       "      <td>53.000000</td>\n",
       "      <td>53.000000</td>\n",
       "      <td>53.000000</td>\n",
       "    </tr>\n",
       "    <tr>\n",
       "      <th>mean</th>\n",
       "      <td>130314.053774</td>\n",
       "      <td>3.956604</td>\n",
       "      <td>1986.54717</td>\n",
       "      <td>59004.773585</td>\n",
       "      <td>59875.113208</td>\n",
       "      <td>42.135472</td>\n",
       "      <td>69.078868</td>\n",
       "    </tr>\n",
       "    <tr>\n",
       "      <th>std</th>\n",
       "      <td>25835.806702</td>\n",
       "      <td>0.474143</td>\n",
       "      <td>32.88299</td>\n",
       "      <td>49144.556050</td>\n",
       "      <td>48148.688157</td>\n",
       "      <td>46.004370</td>\n",
       "      <td>97.164297</td>\n",
       "    </tr>\n",
       "    <tr>\n",
       "      <th>min</th>\n",
       "      <td>28.850000</td>\n",
       "      <td>3.000000</td>\n",
       "      <td>1864.00000</td>\n",
       "      <td>1.000000</td>\n",
       "      <td>50.000000</td>\n",
       "      <td>1.000000</td>\n",
       "      <td>1.000000</td>\n",
       "    </tr>\n",
       "    <tr>\n",
       "      <th>25%</th>\n",
       "      <td>119061.000000</td>\n",
       "      <td>3.700000</td>\n",
       "      <td>1982.00000</td>\n",
       "      <td>1001.000000</td>\n",
       "      <td>5000.000000</td>\n",
       "      <td>5.000000</td>\n",
       "      <td>10.000000</td>\n",
       "    </tr>\n",
       "    <tr>\n",
       "      <th>50%</th>\n",
       "      <td>127302.000000</td>\n",
       "      <td>4.000000</td>\n",
       "      <td>1998.00000</td>\n",
       "      <td>100001.000000</td>\n",
       "      <td>100001.000000</td>\n",
       "      <td>5.000000</td>\n",
       "      <td>25.000000</td>\n",
       "    </tr>\n",
       "    <tr>\n",
       "      <th>75%</th>\n",
       "      <td>149625.000000</td>\n",
       "      <td>4.300000</td>\n",
       "      <td>2009.00000</td>\n",
       "      <td>100001.000000</td>\n",
       "      <td>100001.000000</td>\n",
       "      <td>100.010000</td>\n",
       "      <td>100.010000</td>\n",
       "    </tr>\n",
       "    <tr>\n",
       "      <th>max</th>\n",
       "      <td>190000.000000</td>\n",
       "      <td>5.000000</td>\n",
       "      <td>2016.00000</td>\n",
       "      <td>100001.000000</td>\n",
       "      <td>100001.000000</td>\n",
       "      <td>100.010000</td>\n",
       "      <td>500.000000</td>\n",
       "    </tr>\n",
       "  </tbody>\n",
       "</table>\n",
       "</div>"
      ],
      "text/plain": [
       "       Salary Estimate     Rating     Founded       min_size       max_size  \\\n",
       "count        53.000000  53.000000    53.00000      53.000000      53.000000   \n",
       "mean     130314.053774   3.956604  1986.54717   59004.773585   59875.113208   \n",
       "std       25835.806702   0.474143    32.88299   49144.556050   48148.688157   \n",
       "min          28.850000   3.000000  1864.00000       1.000000      50.000000   \n",
       "25%      119061.000000   3.700000  1982.00000    1001.000000    5000.000000   \n",
       "50%      127302.000000   4.000000  1998.00000  100001.000000  100001.000000   \n",
       "75%      149625.000000   4.300000  2009.00000  100001.000000  100001.000000   \n",
       "max      190000.000000   5.000000  2016.00000  100001.000000  100001.000000   \n",
       "\n",
       "       min_revenue  max_revenue  \n",
       "count    53.000000    53.000000  \n",
       "mean     42.135472    69.078868  \n",
       "std      46.004370    97.164297  \n",
       "min       1.000000     1.000000  \n",
       "25%       5.000000    10.000000  \n",
       "50%       5.000000    25.000000  \n",
       "75%     100.010000   100.010000  \n",
       "max     100.010000   500.000000  "
      ]
     },
     "execution_count": 16,
     "metadata": {},
     "output_type": "execute_result"
    }
   ],
   "source": [
    "df.describe()"
   ]
  },
  {
   "cell_type": "code",
   "execution_count": 17,
   "id": "641837b5",
   "metadata": {},
   "outputs": [
    {
     "data": {
      "text/plain": [
       "<AxesSubplot:>"
      ]
     },
     "execution_count": 17,
     "metadata": {},
     "output_type": "execute_result"
    },
    {
     "data": {
      "image/png": "[encoded data removed]",
      "text/plain": [
       "<Figure size 432x288 with 1 Axes>"
      ]
     },
     "metadata": {
      "needs_background": "light"
     },
     "output_type": "display_data"
    }
   ],
   "source": [
    "df.Rating.hist()"
   ]
  },
  {
   "cell_type": "code",
   "execution_count": 18,
   "id": "30dff9f3",
   "metadata": {},
   "outputs": [
    {
     "data": {
      "text/plain": [
       "<AxesSubplot:>"
      ]
     },
     "execution_count": 18,
     "metadata": {},
     "output_type": "execute_result"
    },
    {
     "data": {
      "image/png": "[encoded data removed]",
      "text/plain": [
       "<Figure size 432x288 with 1 Axes>"
      ]
     },
     "metadata": {
      "needs_background": "light"
     },
     "output_type": "display_data"
    }
   ],
   "source": [
    "df.boxplot(column = [\"Founded\",\"Salary Estimate\",\"Rating\"])"
   ]
  },
  {
   "cell_type": "code",
   "execution_count": null,
   "id": "4fef60cf",
   "metadata": {},
   "outputs": [],
   "source": []
  }
 ],
 "metadata": {
  "kernelspec": {
   "display_name": "Python 3 (ipykernel)",
   "language": "python",
   "name": "python3"
  },
  "language_info": {
   "codemirror_mode": {
    "name": "ipython",
    "version": 3
   },
   "file_extension": ".py",
   "mimetype": "text/x-python",
   "name": "python",
   "nbconvert_exporter": "python",
   "pygments_lexer": "ipython3",
   "version": "3.10.5"
  }
 },
 "nbformat": 4,
 "nbformat_minor": 5
}
